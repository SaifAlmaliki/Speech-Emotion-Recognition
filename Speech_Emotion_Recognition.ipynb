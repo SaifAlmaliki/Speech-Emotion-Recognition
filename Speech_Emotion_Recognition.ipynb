{
  "nbformat": 4,
  "nbformat_minor": 0,
  "metadata": {
    "colab": {
      "name": "Speech Emotion Recognition.ipynb",
      "provenance": [],
      "mount_file_id": "15O7Jn-2Or_nAnfwMm284Pa5azfRTrFNn",
      "authorship_tag": "ABX9TyOrJ/xiPMpGZdZlph75B/If",
      "include_colab_link": true
    },
    "kernelspec": {
      "name": "python3",
      "display_name": "Python 3"
    }
  },
  "cells": [
    {
      "cell_type": "markdown",
      "metadata": {
        "id": "view-in-github",
        "colab_type": "text"
      },
      "source": [
        "<a href=\"https://colab.research.google.com/github/SaifAlmaliki/Speech-Emotion-Recognition/blob/main/Speech_Emotion_Recognition.ipynb\" target=\"_parent\"><img src=\"https://colab.research.google.com/assets/colab-badge.svg\" alt=\"Open In Colab\"/></a>"
      ]
    },
    {
      "cell_type": "markdown",
      "metadata": {
        "id": "gUnbXDYzAVTw"
      },
      "source": [
        "source: https://data-flair.training/blogs/python-mini-project-speech-emotion-recognition/"
      ]
    },
    {
      "cell_type": "code",
      "metadata": {
        "id": "d1cdwZ72hqkz"
      },
      "source": [
        "!pip install librosa \n",
        "!pip install soundfile "
      ],
      "execution_count": null,
      "outputs": []
    },
    {
      "cell_type": "code",
      "metadata": {
        "id": "u8vDyoWrjkCy"
      },
      "source": [
        "import librosa\n",
        "import soundfile\n",
        "import numpy as np\n",
        "import os, glob, pickle\n",
        "from sklearn.model_selection import train_test_split\n",
        "from sklearn.neural_network import MLPClassifier\n",
        "from sklearn.metrics import accuracy_score"
      ],
      "execution_count": 59,
      "outputs": []
    },
    {
      "cell_type": "markdown",
      "metadata": {
        "id": "GliCjbcEzXu7"
      },
      "source": [
        "**Extract features (mfcc, chroma, mel) from a sound file**"
      ]
    },
    {
      "cell_type": "code",
      "metadata": {
        "id": "4q4NamwWnmI4"
      },
      "source": [
        "def extract_feature(file_name, mfcc, chroma, mel):\n",
        "    with soundfile.SoundFile(file_name) as mySoundFile:\n",
        "        X = mySoundFile.read(dtype=\"float32\")\n",
        "        sample_rate = mySoundFile.samplerate\n",
        "        \n",
        "        if chroma:    \n",
        "            stft = np.abs(librosa.stft(X))\n",
        "        result = np.array([])\n",
        "\n",
        "        if mfcc:\n",
        "            my_mfccs = np.mean(librosa.feature.mfcc(y=X, sr=sample_rate, n_mfcc=40).T, axis=0)\n",
        "            result = np.hstack((result, my_mfccs))\n",
        "\n",
        "        if chroma:\n",
        "            chroma = np.mean(librosa.feature.chroma_stft(S=stft, sr=sample_rate).T, axis = 0)\n",
        "            result = np.hstack((result, chroma))\n",
        "        \n",
        "        if mel:\n",
        "            mel=np.mean(librosa.feature.melspectrogram(X, sr=sample_rate).T, axis=0)\n",
        "            result = np.hstack((result, mel))\n",
        "\n",
        "    return result"
      ],
      "execution_count": 60,
      "outputs": []
    },
    {
      "cell_type": "markdown",
      "metadata": {
        "id": "6MVjgsu10spS"
      },
      "source": [
        "**Define a dictionary to hold numbers and the emotions available in the RAVDESS dataset, and a list to hold those we want- calm, happy, fearful, disgust.**"
      ]
    },
    {
      "cell_type": "code",
      "metadata": {
        "id": "KPMuXnt00tHh"
      },
      "source": [
        "# Emotions in the RAVDESS dataset\n",
        "emotions={\n",
        "  '01':'neutral',\n",
        "  '02':'calm',\n",
        "  '03':'happy',\n",
        "  '04':'sad',\n",
        "  '05':'angry',\n",
        "  '06':'fearful',\n",
        "  '07':'disgust',\n",
        "  '08':'surprised'\n",
        "}\n",
        "\n",
        "# Emotions to observe\n",
        "observed_emotions=['calm', 'happy', 'fearful', 'disgust']"
      ],
      "execution_count": 61,
      "outputs": []
    },
    {
      "cell_type": "markdown",
      "metadata": {
        "id": "9U8FpMK81Kq2"
      },
      "source": [
        "Get the basename of the file, the emotion by splitting the name around ‘-’ and extracting the **third value**\n",
        "\n",
        "Using our emotions dictionary, **this number is turned into an emotion**, and our function checks whether this emotion is in our list of observed_emotions; if not, it continues to the next file.\n",
        "\n",
        "It makes a call to extract_feature() and stores what is returned in ‘feature’. Then, it appends the **feature to x** and the **emotion to y**. \n",
        "\n",
        "So, the list x holds the features and y holds the emotions. We call the function train_test_split with these, the test size, and a random state value, and return that."
      ]
    },
    {
      "cell_type": "code",
      "metadata": {
        "id": "NqjBK2u61K2R"
      },
      "source": [
        "# Load the data and extract features for each sound file\n",
        "def load_data(test_size = 0.2):\n",
        "    x, y = [], []\n",
        "    for file in glob.glob(\"/content/drive/My Drive/Colab Notebooks/Speech Emotion Recognition/ravdess-data/Actor_*/*.wav\"):\n",
        "        file_name = os.path.basename(file)\n",
        "        emotion = emotions[file_name.split(\"-\")[2]] # extracting the third value which is the motion number\n",
        "        if emotion not in observed_emotions:\n",
        "            continue\n",
        "        feature = extract_feature(file, mfcc=True, chroma=True, mel=True)\n",
        "        x.append(feature)\n",
        "        y.append(emotion)\n",
        "\n",
        "    split = train_test_split(np.array(x), y, test_size = test_size, random_state = 9) \n",
        "    return split"
      ],
      "execution_count": 62,
      "outputs": []
    },
    {
      "cell_type": "markdown",
      "metadata": {
        "id": "nonWFOBO4yCK"
      },
      "source": [
        "! Let’s keep the test set 25% of everything and use the load_data() function for this.\n",
        "\n"
      ]
    },
    {
      "cell_type": "code",
      "metadata": {
        "id": "ewRuKZPJ40yh"
      },
      "source": [
        "# Split the dataset\n",
        "x_train, x_test, y_train, y_test = load_data(test_size=0.25)"
      ],
      "execution_count": 63,
      "outputs": []
    },
    {
      "cell_type": "markdown",
      "metadata": {
        "id": "7WdO3Sxu74jz"
      },
      "source": [
        "**Observe the shape of the training and testing datasets**\n",
        "\n"
      ]
    },
    {
      "cell_type": "code",
      "metadata": {
        "id": "ZZFukMT-74tb",
        "outputId": "bf9d3583-90e0-4044-fabf-56b5a504d328",
        "colab": {
          "base_uri": "https://localhost:8080/",
          "height": 51
        }
      },
      "source": [
        "print(\"Train data: \", x_train.shape[0], \"\\nTest data: \", x_test.shape[0])"
      ],
      "execution_count": 64,
      "outputs": [
        {
          "output_type": "stream",
          "text": [
            "Train data:  576 \n",
            "Test data:  192\n"
          ],
          "name": "stdout"
        }
      ]
    },
    {
      "cell_type": "markdown",
      "metadata": {
        "id": "_T-yzcIz8PSe"
      },
      "source": [
        "**Get the number of features(Emotions) extracted**"
      ]
    },
    {
      "cell_type": "code",
      "metadata": {
        "id": "vV9EYnzz8Pbu",
        "outputId": "cce8d773-8fc8-41b2-d4b6-703ea44d5a7e",
        "colab": {
          "base_uri": "https://localhost:8080/",
          "height": 34
        }
      },
      "source": [
        "print(f'Features(Emotions) extracted: {x_train.shape[1]} emotions')"
      ],
      "execution_count": 65,
      "outputs": [
        {
          "output_type": "stream",
          "text": [
            "Features(Emotions) extracted: 180 emotions\n"
          ],
          "name": "stdout"
        }
      ]
    },
    {
      "cell_type": "markdown",
      "metadata": {
        "id": "IcJwv_da8i1u"
      },
      "source": [
        "**Now, let’s initialize an MLPClassifier**\n",
        "\n",
        "It optimizes the log-loss function using LBFGS or stochastic gradient descent.\n",
        "\n",
        "Unlike SVM or Naive Bayes, the MLPClassifier has an internal neural network for the purpose of classification."
      ]
    },
    {
      "cell_type": "code",
      "metadata": {
        "id": "mOkMfqyq8i9q"
      },
      "source": [
        "# Initialize the Multi Layer Perceptron Classifier\n",
        "model = MLPClassifier(alpha=0.01, \n",
        "                      batch_size=128,\n",
        "                      hidden_layer_sizes = (100,200,), \n",
        "                      learning_rate='adaptive', \n",
        "                      max_iter=500)"
      ],
      "execution_count": 66,
      "outputs": []
    },
    {
      "cell_type": "code",
      "metadata": {
        "id": "A8f9YiKq-RLy",
        "outputId": "aa6cb038-ccde-40a3-df54-fe51e681ecdb",
        "colab": {
          "base_uri": "https://localhost:8080/",
          "height": 153
        }
      },
      "source": [
        "# Train the model\n",
        "model.fit(x_train, y_train)"
      ],
      "execution_count": 67,
      "outputs": [
        {
          "output_type": "execute_result",
          "data": {
            "text/plain": [
              "MLPClassifier(activation='relu', alpha=0.01, batch_size=128, beta_1=0.9,\n",
              "              beta_2=0.999, early_stopping=False, epsilon=1e-08,\n",
              "              hidden_layer_sizes=(100, 200), learning_rate='adaptive',\n",
              "              learning_rate_init=0.001, max_fun=15000, max_iter=500,\n",
              "              momentum=0.9, n_iter_no_change=10, nesterovs_momentum=True,\n",
              "              power_t=0.5, random_state=None, shuffle=True, solver='adam',\n",
              "              tol=0.0001, validation_fraction=0.1, verbose=False,\n",
              "              warm_start=False)"
            ]
          },
          "metadata": {
            "tags": []
          },
          "execution_count": 67
        }
      ]
    },
    {
      "cell_type": "markdown",
      "metadata": {
        "id": "dmwUc5w4-l5r"
      },
      "source": [
        "**Predict the values for the test set.**\n",
        "\n",
        "This gives us **y_pred** (the predicted emotions for the features in the test set)."
      ]
    },
    {
      "cell_type": "code",
      "metadata": {
        "id": "vWPH5Id_-lls"
      },
      "source": [
        "y_pred= model.predict(x_test)"
      ],
      "execution_count": 68,
      "outputs": []
    },
    {
      "cell_type": "markdown",
      "metadata": {
        "id": "BfxKkelT-8ND"
      },
      "source": [
        "**Calculate The Accuracy**\n",
        "\n",
        "we’ll round the accuracy to 2 decimal places."
      ]
    },
    {
      "cell_type": "code",
      "metadata": {
        "id": "zamdZzsY-lqQ",
        "outputId": "6fafbee0-0066-4d10-9730-6c457e9e0ecb",
        "colab": {
          "base_uri": "https://localhost:8080/",
          "height": 34
        }
      },
      "source": [
        "accuracy = accuracy_score(y_true=y_test, y_pred=y_pred)\n",
        "print(\"Accuracy: {:.2f}%\".format(accuracy*100))"
      ],
      "execution_count": 69,
      "outputs": [
        {
          "output_type": "stream",
          "text": [
            "Accuracy: 63.54%\n"
          ],
          "name": "stdout"
        }
      ]
    }
  ]
}